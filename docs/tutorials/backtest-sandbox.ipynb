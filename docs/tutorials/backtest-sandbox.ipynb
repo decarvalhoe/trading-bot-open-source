{
 "cells": [
  {
   "cell_type": "markdown",
   "metadata": {},
   "source": [
    "# Backtest sandbox walkthrough\n",
    "\n",
    "This notebook accompanies the December 2025 release and demonstrates how to\n",
    "bootstrap the demo stack, generate a strategy draft with the AI assistant and\n",
    "run a backtest end-to-end."
   ]
  },
  {
   "cell_type": "markdown",
   "metadata": {},
   "source": [
    "## 1. Environment setup\n",
    "\n",
    "```bash\n",
    "make demo-up\n",
    "pip install -r services/algo-engine/requirements.txt\n",
    "export AI_ASSISTANT_ENABLED=1\n",
    "export OPENAI_API_KEY=\"sk-your-key\"\n",
    "```\n",
    "\n",
    "The optional LangChain/OpenAI dependencies enable the assistant-backed\n",
    "generation endpoint exposed by the algo engine."
   ]
  },
  {
   "cell_type": "markdown",
   "metadata": {},
   "source": [
    "## 2. Bootstrap demo entities\n",
    "\n",
    "```bash\n",
    "python scripts/dev/bootstrap_demo.py BTCUSDT 0.25 --order-type market\n",
    "```\n",
    "\n",
    "The script provisions an account, entitlements, strategy, order, report and\n",
    "alert. Copy the JSON identifiers for the next steps."
   ]
  },
  {
   "cell_type": "markdown",
   "metadata": {},
   "source": [
    "## 3. Request an AI draft\n",
    "\n",
    "```python\n",
    "import httpx\n",
    "\n",
    "payload = {\"prompt\": \"Mean reversion on BTC 15m\", \"preferred_format\": \"yaml\"}\n",
    "resp = httpx.post(\"http://localhost:8014/strategies/generate\", json=payload)\n",
    "resp.raise_for_status()\n",
    "draft = resp.json()\n",
    "draft\n",
    "```\n",
    "\n",
    "Review the generated YAML/Python and adjust parameters before importing."
   ]
  },
  {
   "cell_type": "markdown",
   "metadata": {},
   "source": [
    "## 4. Import and backtest\n",
    "\n",
    "```python\n",
    "strategy_payload = {\n",
    "    \"format\": draft[\"preferred_format\"],\n",
    "    \"content\": draft[\"content\"],\n",
    "    \"name\": draft.get(\"summary\", \"AI Draft\")\n",
    "}\n",
    "created = httpx.post(\"http://localhost:8014/strategies/import\", json=strategy_payload)\n",
    "created.raise_for_status()\n",
    "strategy = created.json()\n",
    "backtest = httpx.post(\"http://localhost:8014/strategies/{strategy_id}/backtest\".format(strategy_id=strategy[\"id\"]),\n",
    "                        json={\"initial_balance\": 10000, \"market_data\": []})\n",
    "backtest.raise_for_status()\n",
    "backtest.json()\n",
    "```\n",
    "\n",
    "Inspect the files saved under `data/backtests/` for equity curves and logs."
   ]
  },
  {
   "cell_type": "markdown",
   "metadata": {},
   "source": [
    "## 5. Tear down\n",
    "\n",
    "```bash\n",
    "make demo-down\n",
    "```\n",
    "\n",
    "Clean up containers once the walkthrough is complete."
   ]
  }
 ],
 "metadata": {
  "kernelspec": {
   "display_name": "Python 3",
   "language": "python",
   "name": "python3"
  },
  "language_info": {
   "name": "python",
   "version": "3.11"
  }
 },
 "nbformat": 4,
 "nbformat_minor": 5
}
